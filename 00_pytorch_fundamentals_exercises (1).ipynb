{
  "nbformat": 4,
  "nbformat_minor": 0,
  "metadata": {
    "colab": {
      "provenance": [],
      "gpuType": "T4"
    },
    "kernelspec": {
      "name": "python3",
      "display_name": "Python 3"
    },
    "language_info": {
      "name": "python"
    },
    "accelerator": "GPU"
  },
  "cells": [
    {
      "cell_type": "markdown",
      "source": [
        "# 00. PyTorch Fundamentals Exercises\n",
        "\n",
        "### 1. Documentation reading\n",
        "\n",
        "A big part of deep learning (and learning to code in general) is getting familiar with the documentation of a certain framework you're using. We'll be using the PyTorch documentation a lot throughout the rest of this course. So I'd recommend spending 10-minutes reading the following (it's okay if you don't get some things for now, the focus is not yet full understanding, it's awareness):\n",
        "  * The documentation on [`torch.Tensor`](https://pytorch.org/docs/stable/tensors.html#torch-tensor).\n",
        "  * The documentation on [`torch.cuda`](https://pytorch.org/docs/master/notes/cuda.html#cuda-semantics).\n",
        "\n"
      ],
      "metadata": {
        "id": "AzDBM_v4iMe7"
      }
    },
    {
      "cell_type": "code",
      "source": [
        "# No code solution (reading)"
      ],
      "metadata": {
        "id": "bGD0oD8Kizak"
      },
      "execution_count": null,
      "outputs": []
    },
    {
      "cell_type": "markdown",
      "source": [
        "### 2. Create a random tensor with shape `(7, 7)`.\n"
      ],
      "metadata": {
        "id": "__iXqqz-ioUJ"
      }
    },
    {
      "cell_type": "code",
      "source": [
        "# Import torch\n",
        "import torch\n",
        "\n",
        "\n",
        "# Create random tensor\n",
        "tensor = torch.rand(7,7)\n",
        "tensor\n"
      ],
      "metadata": {
        "id": "6pUq9Dc8i2L7",
        "colab": {
          "base_uri": "https://localhost:8080/"
        },
        "outputId": "5707a8b4-8094-41a6-e377-78518762f819"
      },
      "execution_count": null,
      "outputs": [
        {
          "output_type": "execute_result",
          "data": {
            "text/plain": [
              "tensor([[0.0983, 0.2144, 0.7080, 0.2019, 0.9090, 0.1211, 0.5195],\n",
              "        [0.8817, 0.6142, 0.5598, 0.9890, 0.6879, 0.7715, 0.9745],\n",
              "        [0.4186, 0.8496, 0.8129, 0.0305, 0.9560, 0.3251, 0.5556],\n",
              "        [0.7168, 0.2700, 0.4188, 0.8099, 0.3621, 0.0743, 0.0274],\n",
              "        [0.0956, 0.9826, 0.7966, 0.4547, 0.7050, 0.0140, 0.8962],\n",
              "        [0.0859, 0.8686, 0.6765, 0.2114, 0.1866, 0.0918, 0.1960],\n",
              "        [0.2805, 0.8448, 0.1290, 0.7419, 0.8465, 0.5679, 0.7271]])"
            ]
          },
          "metadata": {},
          "execution_count": 11
        }
      ]
    },
    {
      "cell_type": "markdown",
      "source": [
        "### 3. Perform a matrix multiplication on the tensor from 2 with another random tensor with shape `(1, 7)` (hint: you may have to transpose the second tensor)."
      ],
      "metadata": {
        "id": "9-XxvRLfiqkR"
      }
    },
    {
      "cell_type": "code",
      "source": [
        "# Create another random tensor\n",
        "tensor_2 = torch.rand(1,7)\n",
        "\n",
        "# Perform matrix multiplication\n",
        "print(f\"Tensor 1: {tensor}\")\n",
        "print(f\"\\nTensor 2: {tensor_2}\")\n",
        "print(f\"\\nTensor X Tensor = {tensor*tensor_2}\")\n",
        "\n",
        "\n",
        "\n"
      ],
      "metadata": {
        "id": "NcLqR0Sbi_vT",
        "colab": {
          "base_uri": "https://localhost:8080/"
        },
        "outputId": "7a001cc3-a48b-4ee2-fa90-a8ad172749d9"
      },
      "execution_count": null,
      "outputs": [
        {
          "output_type": "stream",
          "name": "stdout",
          "text": [
            "Tensor 1: tensor([[0.0983, 0.2144, 0.7080, 0.2019, 0.9090, 0.1211, 0.5195],\n",
            "        [0.8817, 0.6142, 0.5598, 0.9890, 0.6879, 0.7715, 0.9745],\n",
            "        [0.4186, 0.8496, 0.8129, 0.0305, 0.9560, 0.3251, 0.5556],\n",
            "        [0.7168, 0.2700, 0.4188, 0.8099, 0.3621, 0.0743, 0.0274],\n",
            "        [0.0956, 0.9826, 0.7966, 0.4547, 0.7050, 0.0140, 0.8962],\n",
            "        [0.0859, 0.8686, 0.6765, 0.2114, 0.1866, 0.0918, 0.1960],\n",
            "        [0.2805, 0.8448, 0.1290, 0.7419, 0.8465, 0.5679, 0.7271]])\n",
            "\n",
            "Tensor 2: tensor([[0.2317, 0.6191, 0.2776, 0.6693, 0.4040, 0.6018, 0.1259]])\n",
            "\n",
            "Tensor X Tensor = tensor([[0.0228, 0.1327, 0.1965, 0.1351, 0.3673, 0.0729, 0.0654],\n",
            "        [0.2043, 0.3802, 0.1554, 0.6619, 0.2779, 0.4643, 0.1227],\n",
            "        [0.0970, 0.5259, 0.2256, 0.0204, 0.3863, 0.1957, 0.0700],\n",
            "        [0.1661, 0.1671, 0.1162, 0.5421, 0.1463, 0.0447, 0.0035],\n",
            "        [0.0222, 0.6083, 0.2211, 0.3044, 0.2848, 0.0085, 0.1129],\n",
            "        [0.0199, 0.5377, 0.1878, 0.1415, 0.0754, 0.0553, 0.0247],\n",
            "        [0.0650, 0.5230, 0.0358, 0.4966, 0.3420, 0.3418, 0.0916]])\n"
          ]
        }
      ]
    },
    {
      "cell_type": "markdown",
      "source": [
        "### 4. Set the random seed to `0` and do 2 & 3 over again.\n",
        "\n",
        "The output should be:\n",
        "```\n",
        "(tensor([[1.8542],\n",
        "         [1.9611],\n",
        "         [2.2884],\n",
        "         [3.0481],\n",
        "         [1.7067],\n",
        "         [2.5290],\n",
        "         [1.7989]]), torch.Size([7, 1]))\n",
        "```"
      ],
      "metadata": {
        "id": "eiutdKUFiryU"
      }
    },
    {
      "cell_type": "code",
      "source": [
        "# Set manual seed\n",
        "torch.manual_seed(0)\n",
        "\n",
        "\n",
        "# Create two random tensors\n",
        "torch.manual_seed(0)\n",
        "torch_rand1 = torch.rand(7,7)\n",
        "torch.manual_seed(0)\n",
        "torch_rand2 = torch.rand(1,7)\n",
        "\n",
        "\n",
        "# Matrix multiply tensors\n",
        "print(f\"Tensor 1: {torch_rand1}\")\n",
        "print(f\"\\nTensor 2: {torch_rand2}\")\n",
        "print(f\"\\nTensor X Tensor = {torch_rand1*torch_rand2}\")\n"
      ],
      "metadata": {
        "id": "D-lOWI_1jRMm",
        "colab": {
          "base_uri": "https://localhost:8080/"
        },
        "outputId": "4115db62-1704-498b-b3a1-3f44a615d3de"
      },
      "execution_count": null,
      "outputs": [
        {
          "output_type": "stream",
          "name": "stdout",
          "text": [
            "Tensor 1: tensor([[0.4963, 0.7682, 0.0885, 0.1320, 0.3074, 0.6341, 0.4901],\n",
            "        [0.8964, 0.4556, 0.6323, 0.3489, 0.4017, 0.0223, 0.1689],\n",
            "        [0.2939, 0.5185, 0.6977, 0.8000, 0.1610, 0.2823, 0.6816],\n",
            "        [0.9152, 0.3971, 0.8742, 0.4194, 0.5529, 0.9527, 0.0362],\n",
            "        [0.1852, 0.3734, 0.3051, 0.9320, 0.1759, 0.2698, 0.1507],\n",
            "        [0.0317, 0.2081, 0.9298, 0.7231, 0.7423, 0.5263, 0.2437],\n",
            "        [0.5846, 0.0332, 0.1387, 0.2422, 0.8155, 0.7932, 0.2783]])\n",
            "\n",
            "Tensor 2: tensor([[0.4963, 0.7682, 0.0885, 0.1320, 0.3074, 0.6341, 0.4901]])\n",
            "\n",
            "Tensor X Tensor = tensor([[0.2463, 0.5902, 0.0078, 0.0174, 0.0945, 0.4021, 0.2402],\n",
            "        [0.4449, 0.3500, 0.0559, 0.0461, 0.1235, 0.0142, 0.0828],\n",
            "        [0.1458, 0.3983, 0.0617, 0.1056, 0.0495, 0.1790, 0.3341],\n",
            "        [0.4542, 0.3051, 0.0773, 0.0554, 0.1700, 0.6041, 0.0177],\n",
            "        [0.0919, 0.2869, 0.0270, 0.1231, 0.0541, 0.1711, 0.0738],\n",
            "        [0.0157, 0.1599, 0.0823, 0.0955, 0.2282, 0.3337, 0.1194],\n",
            "        [0.2901, 0.0255, 0.0123, 0.0320, 0.2507, 0.5029, 0.1364]])\n"
          ]
        }
      ]
    },
    {
      "cell_type": "markdown",
      "source": [
        "### 5. Speaking of random seeds, we saw how to set it with `torch.manual_seed()` but is there a GPU equivalent? (hint: you'll need to look into the documentation for `torch.cuda` for this one)\n",
        "  * If there is, set the GPU random seed to `1234`."
      ],
      "metadata": {
        "id": "ezY6ks9Cis37"
      }
    },
    {
      "cell_type": "code",
      "source": [
        "# Set random seed on the GPU\n",
        "random_seed = 1234\n",
        "torch.manual_seed(random_seed)\n"
      ],
      "metadata": {
        "id": "_LKWcfSTjp00",
        "colab": {
          "base_uri": "https://localhost:8080/"
        },
        "outputId": "0731c2d4-a682-42bd-9f69-067958e58e94"
      },
      "execution_count": null,
      "outputs": [
        {
          "output_type": "execute_result",
          "data": {
            "text/plain": [
              "<torch._C.Generator at 0x7b5ac67f3c70>"
            ]
          },
          "metadata": {},
          "execution_count": 29
        }
      ]
    },
    {
      "cell_type": "markdown",
      "source": [
        "\n",
        "### 6. Create two random tensors of shape `(2, 3)` and send them both to the GPU (you'll need access to a GPU for this). Set `torch.manual_seed(1234)` when creating the tensors (this doesn't have to be the GPU random seed). The output should be something like:\n",
        "\n",
        "```\n",
        "Device: cuda\n",
        "(tensor([[0.0290, 0.4019, 0.2598],\n",
        "         [0.3666, 0.0583, 0.7006]], device='cuda:0'),\n",
        " tensor([[0.0518, 0.4681, 0.6738],\n",
        "         [0.3315, 0.7837, 0.5631]], device='cuda:0'))\n",
        "```"
      ],
      "metadata": {
        "id": "Ir9qSaj6it4n"
      }
    },
    {
      "cell_type": "code",
      "source": [
        "# Set random seed\n",
        "torch.manual_seed(1234)\n",
        "\n",
        "\n",
        "\n",
        "\n",
        "# Check for access to GPU\n",
        "device = \"cuda\" if torch.cuda.is_available() else \"cpu\"\n",
        "# Create two random tensors on GPU\n",
        "rand_tensor = torch.rand(2,3)\n",
        "rand_tensor2 = torch.rand(2,3)\n",
        "x = rand_tensor.to(device)\n",
        "y = rand_tensor2.to(device)\n",
        "\n",
        "print(f\"Device : {device}\")\n",
        "print(x)\n",
        "print(y)\n"
      ],
      "metadata": {
        "id": "azXExiFZj5nm",
        "colab": {
          "base_uri": "https://localhost:8080/"
        },
        "outputId": "2cbf6238-5744-4e55-f3bd-3c926506e708"
      },
      "execution_count": null,
      "outputs": [
        {
          "output_type": "stream",
          "name": "stdout",
          "text": [
            "Device : cuda\n",
            "tensor([[0.0290, 0.4019, 0.2598],\n",
            "        [0.3666, 0.0583, 0.7006]], device='cuda:0')\n",
            "tensor([[0.0518, 0.4681, 0.6738],\n",
            "        [0.3315, 0.7837, 0.5631]], device='cuda:0')\n"
          ]
        }
      ]
    },
    {
      "cell_type": "markdown",
      "source": [
        "\n",
        "### 7. Perform a matrix multiplication on the tensors you created in 6 (again, you may have to adjust the shapes of one of the tensors).\n",
        "\n",
        "The output should look like:\n",
        "```\n",
        "(tensor([[0.3647, 0.4709],\n",
        "         [0.5184, 0.5617]], device='cuda:0'), torch.Size([2, 2]))\n",
        "```"
      ],
      "metadata": {
        "id": "5TlAxeiSiu1y"
      }
    },
    {
      "cell_type": "code",
      "source": [
        "# Perform matmul on tensor_A and tensor_B\n",
        "reshaped_tensor = y.reshape(3,2)\n",
        "z = torch.matmul(x,reshaped_tensor)\n",
        "print(z,z.shape)\n",
        "\n",
        "\n"
      ],
      "metadata": {
        "id": "fAeG7ox0lHEO",
        "colab": {
          "base_uri": "https://localhost:8080/"
        },
        "outputId": "0edf43a4-f294-40a7-df02-f0b69dbc7c28"
      },
      "execution_count": null,
      "outputs": [
        {
          "output_type": "stream",
          "name": "stdout",
          "text": [
            "tensor([[0.4759, 0.2931],\n",
            "        [0.6074, 0.5855]], device='cuda:0') torch.Size([2, 2])\n"
          ]
        }
      ]
    },
    {
      "cell_type": "markdown",
      "source": [
        "### 8. Find the maximum and minimum values of the output of 7."
      ],
      "metadata": {
        "id": "G7qfa5CSivwg"
      }
    },
    {
      "cell_type": "code",
      "source": [
        "# Find max\n",
        "print(torch.max(z))\n",
        "# Find min\n",
        "print(torch.min(z))\n"
      ],
      "metadata": {
        "id": "Fu8_3mZpllOd",
        "colab": {
          "base_uri": "https://localhost:8080/"
        },
        "outputId": "5fe57294-882a-4529-9c92-7454ee9cf877"
      },
      "execution_count": null,
      "outputs": [
        {
          "output_type": "stream",
          "name": "stdout",
          "text": [
            "tensor(0.6074, device='cuda:0')\n",
            "tensor(0.2931, device='cuda:0')\n"
          ]
        }
      ]
    },
    {
      "cell_type": "markdown",
      "source": [
        "### 9. Find the maximum and minimum index values of the output of 7."
      ],
      "metadata": {
        "id": "wrTj5FgNiw47"
      }
    },
    {
      "cell_type": "code",
      "source": [
        "# Find arg max\n",
        "\n",
        "print(torch.argmax(z))\n",
        "\n",
        "# Find arg min\n",
        "print(torch.argmin(z))\n"
      ],
      "metadata": {
        "id": "CCEKt4K2lsfQ",
        "colab": {
          "base_uri": "https://localhost:8080/"
        },
        "outputId": "3a6081d1-e77f-4dc3-959f-139eb2c892e1"
      },
      "execution_count": null,
      "outputs": [
        {
          "output_type": "stream",
          "name": "stdout",
          "text": [
            "tensor(2, device='cuda:0')\n",
            "tensor(1, device='cuda:0')\n"
          ]
        }
      ]
    },
    {
      "cell_type": "markdown",
      "source": [
        "\n",
        "### 10. Make a random tensor with shape `(1, 1, 1, 10)` and then create a new tensor with all the `1` dimensions removed to be left with a tensor of shape `(10)`. Set the seed to `7` when you create it and print out the first tensor and it's shape as well as the second tensor and it's shape.\n",
        "\n",
        "The output should look like:\n",
        "\n",
        "```\n",
        "tensor([[[[0.5349, 0.1988, 0.6592, 0.6569, 0.2328, 0.4251, 0.2071, 0.6297,\n",
        "           0.3653, 0.8513]]]]) torch.Size([1, 1, 1, 10])\n",
        "tensor([0.5349, 0.1988, 0.6592, 0.6569, 0.2328, 0.4251, 0.2071, 0.6297, 0.3653,\n",
        "        0.8513]) torch.Size([10])\n",
        "```"
      ],
      "metadata": {
        "id": "hmeybz4uixy7"
      }
    },
    {
      "cell_type": "code",
      "source": [
        "# Set seed\n",
        "torch.manual_seed(7)\n",
        "\n",
        "\n",
        "# Create random tensor\n",
        "tensor = torch.rand(1,1,1,10)\n",
        "\n",
        "\n",
        "# Remove single dimensions\n",
        "x = torch.squeeze(tensor)\n",
        "\n",
        "# Print out tensors and their shapes\n",
        "print(f\"Previous tensor: {tensor}\")\n",
        "print(f\"Presvious shape: {tensor.shape}\")\n",
        "print(f\"New tensor: {x}\")\n",
        "print(f\"New shape: {x.shape}\")\n"
      ],
      "metadata": {
        "id": "TQ9zbRzVl1jV",
        "colab": {
          "base_uri": "https://localhost:8080/"
        },
        "outputId": "8841c64c-353b-4a60-eba1-cb519f6b8fc0"
      },
      "execution_count": null,
      "outputs": [
        {
          "output_type": "stream",
          "name": "stdout",
          "text": [
            "Previous tensor: tensor([[[[0.5349, 0.1988, 0.6592, 0.6569, 0.2328, 0.4251, 0.2071, 0.6297,\n",
            "           0.3653, 0.8513]]]])\n",
            "Presvious shape: torch.Size([1, 1, 1, 10])\n",
            "New tensor: tensor([0.5349, 0.1988, 0.6592, 0.6569, 0.2328, 0.4251, 0.2071, 0.6297, 0.3653,\n",
            "        0.8513])\n",
            "New shape: torch.Size([10])\n"
          ]
        }
      ]
    }
  ]
}