{
  "nbformat": 4,
  "nbformat_minor": 0,
  "metadata": {
    "colab": {
      "provenance": [],
      "authorship_tag": "ABX9TyNCkJJJ/p7LRadFKqdqxpzp",
      "include_colab_link": true
    },
    "kernelspec": {
      "name": "python3",
      "display_name": "Python 3"
    },
    "language_info": {
      "name": "python"
    }
  },
  "cells": [
    {
      "cell_type": "markdown",
      "metadata": {
        "id": "view-in-github",
        "colab_type": "text"
      },
      "source": [
        "<a href=\"https://colab.research.google.com/github/jorgemelo10/CursoPyTorch-/blob/main/PyTorchWorkflow.ipynb\" target=\"_parent\"><img src=\"https://colab.research.google.com/assets/colab-badge.svg\" alt=\"Open In Colab\"/></a>"
      ]
    },
    {
      "cell_type": "code",
      "execution_count": 2,
      "metadata": {
        "id": "AhPwxI7Z4C5w"
      },
      "outputs": [],
      "source": [
        "import torch\n",
        "import pandas as pd\n",
        "import numpy as np\n",
        "import matplotlib.pyplot as plt"
      ]
    },
    {
      "cell_type": "markdown",
      "source": [
        "##1. Data (PREPARING AND LOADING)\n",
        "* Excel speadsheet\n",
        "* Images of any kind\n",
        "* Videos (youtube has lot of data...)\n",
        "* Audio like songs and podcasts\n",
        "* DNA\n",
        "* Text\n",
        "\n",
        "Machine learning ia a game pf two parts:\n",
        "1. Get data into numerical representation.\n",
        "2. Build a model to learn patterns in that numerical representation.\n",
        "\n",
        "To showcase this, let's creat some *known* data  using the linear regression formula.\n",
        "We'll use a linear regression formula to make a straight line with known *parameters*."
      ],
      "metadata": {
        "id": "AyHdhAl94LkD"
      }
    },
    {
      "cell_type": "code",
      "source": [
        "#Create known parameters\n",
        "weight = 0.7\n",
        "bias = 0.3\n",
        "\n",
        "#Create\n",
        "start = 0\n",
        "end = 1\n",
        "step = 0.02\n",
        "X = torch.arange(start,end,step).unsqueeze(dim=1)\n",
        "y = weight * X + bias\n",
        "X[:10], y[:10]\n"
      ],
      "metadata": {
        "colab": {
          "base_uri": "https://localhost:8080/"
        },
        "id": "JmcmOn3e4-LP",
        "outputId": "6db63ac6-cd77-49f5-dee6-01d5c45586c8"
      },
      "execution_count": 79,
      "outputs": [
        {
          "output_type": "execute_result",
          "data": {
            "text/plain": [
              "(tensor([[0.0000],\n",
              "         [0.0200],\n",
              "         [0.0400],\n",
              "         [0.0600],\n",
              "         [0.0800],\n",
              "         [0.1000],\n",
              "         [0.1200],\n",
              "         [0.1400],\n",
              "         [0.1600],\n",
              "         [0.1800]]),\n",
              " tensor([[0.3000],\n",
              "         [0.3140],\n",
              "         [0.3280],\n",
              "         [0.3420],\n",
              "         [0.3560],\n",
              "         [0.3700],\n",
              "         [0.3840],\n",
              "         [0.3980],\n",
              "         [0.4120],\n",
              "         [0.4260]]))"
            ]
          },
          "metadata": {},
          "execution_count": 79
        }
      ]
    },
    {
      "cell_type": "markdown",
      "source": [
        "### Splitting data into training and test sets (one of the most concepts in machine learning in general)"
      ],
      "metadata": {
        "id": "jRVMP_nY7U9I"
      }
    },
    {
      "cell_type": "code",
      "source": [
        "## Create a train/test split\n",
        "train_split = int(0.8* len(X))\n",
        "x_train, y_train = X[:train_split], y[:train_split]\n",
        "x_test, y_test = X[train_split:], y[train_split:]\n",
        "\n",
        "len(x_train) , len(y_train), len(x_test), len(y_test)\n",
        "\n"
      ],
      "metadata": {
        "colab": {
          "base_uri": "https://localhost:8080/"
        },
        "id": "BOprlEiZ7rGC",
        "outputId": "3bbe281c-6354-4094-a2cf-1eb17ffd44ba"
      },
      "execution_count": 80,
      "outputs": [
        {
          "output_type": "execute_result",
          "data": {
            "text/plain": [
              "(40, 40, 10, 10)"
            ]
          },
          "metadata": {},
          "execution_count": 80
        }
      ]
    },
    {
      "cell_type": "markdown",
      "source": [
        "How might we better visualize our data?\n",
        "This is where the data explorer's motto comes in!"
      ],
      "metadata": {
        "id": "ielsC-Zn-znG"
      }
    },
    {
      "cell_type": "code",
      "source": [
        "def plot_predictions(train_data = x_train,\n",
        "                     train_labels = y_train,\n",
        "                     test_data = x_test,\n",
        "                     test_label = y_test,\n",
        "                     predictions = None):\n",
        "\n",
        "    \"\"\"\n",
        "    Plots training ddata, test data and compare predictions.\n",
        "    \"\"\"\n",
        "    plt.figure(figsize=(10,7))\n",
        "\n",
        "    #Plot training data in Blue\n",
        "    plt.scatter(train_data, train_labels, c = \"b\", s=4, label= \"Training data\")\n",
        "\n",
        "    #Plot test data in green\n",
        "    plt.scatter(test_data,test_label, c=\"g\", s=4, label=\"Testing data\")\n",
        "\n",
        "    #Are predictions?\n",
        "    if predictions is not None:\n",
        "    #Plot the Predictions if they exist\n",
        "      plt.scatter(test_data, predictions, c=\"r\", s=4, label= \"Predictions\")\n",
        "\n",
        "    #Show the legend\n",
        "    plt.legend(prop={\"size\": 14})"
      ],
      "metadata": {
        "id": "jqcBjM4h7JmC"
      },
      "execution_count": 81,
      "outputs": []
    },
    {
      "cell_type": "code",
      "source": [
        "plot_predictions()"
      ],
      "metadata": {
        "colab": {
          "base_uri": "https://localhost:8080/",
          "height": 599
        },
        "id": "w62_n_RQCrz9",
        "outputId": "3eafddb9-8a09-4873-f80c-c2d6b005792c"
      },
      "execution_count": 6,
      "outputs": [
        {
          "output_type": "display_data",
          "data": {
            "text/plain": [
              "<Figure size 1000x700 with 1 Axes>"
            ],
            "image/png": "[encoded data removed]"
          },
          "metadata": {}
        }
      ]
    },
    {
      "cell_type": "markdown",
      "source": [
        "## 2. Build model\n",
        "Our first PyTorch model\n",
        "\n",
        "What the model does:\n",
        "* Start with random values (wheight and bias)\n",
        "* Look at training data and adjust the random values to better represent ( or get closer) the ideal values (the wheight and bias values we used to create the data)"
      ],
      "metadata": {
        "id": "5bghwOxVJ3om"
      }
    },
    {
      "cell_type": "code",
      "source": [
        "from torch import nn\n",
        "\n",
        " # Create a linear regression model class\n",
        "class LinearRegressionModel(nn.Module):\n",
        "  def __init__(self):\n",
        "    super().__init__()\n",
        "\n",
        "    # Initialize model parameters\n",
        "    self.weight = nn.Parameter(torch.rand(1,\n",
        "                                           requires_grad=True,\n",
        "                                           dtype = torch.float))\n",
        "    self.bias = nn.Parameter(torch.rand(1,\n",
        "                                        requires_grad = True,\n",
        "                                        dtype = torch.float))\n",
        "  #Forward method to define the computaion in the model\n",
        "  def forward(self,x: torch.Tensor) -> torch.Tensor:\n",
        "    return self.weight * x + self.bias\n",
        "\n",
        "\n",
        "\n"
      ],
      "metadata": {
        "id": "3nrjxMfeJdRm"
      },
      "execution_count": 132,
      "outputs": []
    },
    {
      "cell_type": "markdown",
      "source": [
        "### PyTorch model building essentials\n",
        "* torch.nn - contains all of the buildings for computational graphs (a neural network can be considered a computational graph)\n",
        "* torch.nn.Parameter - what parameters should our model try and learn, often a PyTorch layer from torch.nn will set these for us\n",
        "* torch.nn.Module - The base class for all neural network modules, if you subclass it, you should overwrite forward()\n",
        "* torch.optim - this where the optimizers in PyTorch live, they will help with gradient descent\n",
        "* def forward() - All nn.Module subclasses require you to overwrite forward(), this method defines what happens in the forward computation\n"
      ],
      "metadata": {
        "id": "fQ7le8AHjMnQ"
      }
    },
    {
      "cell_type": "markdown",
      "source": [
        "### Checking the contents of our Pytorch model\n"
      ],
      "metadata": {
        "id": "zaFjKGmDmDzO"
      }
    },
    {
      "cell_type": "markdown",
      "source": [],
      "metadata": {
        "id": "-lGBzfP3fGrG"
      }
    },
    {
      "cell_type": "code",
      "source": [
        "# Create a random seed\n",
        "torch.manual_seed(42)\n",
        "\n",
        "#Create an instance of the model\n",
        "model_0 = LinearRegressionModel()\n",
        "#Check out the parametedrs\n",
        "list(model_0.parameters())"
      ],
      "metadata": {
        "colab": {
          "base_uri": "https://localhost:8080/"
        },
        "id": "r7QaVRcPkHj6",
        "outputId": "ecef11c4-3803-49e5-86da-8307fbbd96ce"
      },
      "execution_count": 133,
      "outputs": [
        {
          "output_type": "execute_result",
          "data": {
            "text/plain": [
              "[Parameter containing:\n",
              " tensor([0.8823], requires_grad=True),\n",
              " Parameter containing:\n",
              " tensor([0.9150], requires_grad=True)]"
            ]
          },
          "metadata": {},
          "execution_count": 133
        }
      ]
    },
    {
      "cell_type": "markdown",
      "source": [
        "### Making predictions using `torch.inference_mode()`\n",
        "To check our model's predictieve power, let's see how well it predicts `y_test`based on `x_test`.\n",
        "\n",
        "When we pass dat through our model, it's going to run it through the `forward()`method."
      ],
      "metadata": {
        "id": "6FX-rexDoryx"
      }
    },
    {
      "cell_type": "code",
      "source": [
        "#Make predictions with model\n",
        "with torch.inference_mode():\n",
        "  y_preds =  model_0(x_test)\n",
        "y_preds"
      ],
      "metadata": {
        "colab": {
          "base_uri": "https://localhost:8080/"
        },
        "id": "4XTfD7C5peYU",
        "outputId": "c9e937f3-f312-4445-9cf6-b3968a6ae7d5"
      },
      "execution_count": 134,
      "outputs": [
        {
          "output_type": "execute_result",
          "data": {
            "text/plain": [
              "tensor([[1.6208],\n",
              "        [1.6385],\n",
              "        [1.6561],\n",
              "        [1.6738],\n",
              "        [1.6914],\n",
              "        [1.7090],\n",
              "        [1.7267],\n",
              "        [1.7443],\n",
              "        [1.7620],\n",
              "        [1.7796]])"
            ]
          },
          "metadata": {},
          "execution_count": 134
        }
      ]
    },
    {
      "cell_type": "code",
      "source": [
        "plot_predictions(predictions = y_preds)"
      ],
      "metadata": {
        "colab": {
          "base_uri": "https://localhost:8080/",
          "height": 599
        },
        "id": "HQ5XeJ6oq4uK",
        "outputId": "47118bac-80cf-4272-a81a-4d4e47152282"
      },
      "execution_count": 88,
      "outputs": [
        {
          "output_type": "display_data",
          "data": {
            "text/plain": [
              "<Figure size 1000x700 with 1 Axes>"
            ],
            "image/png": "[encoded data removed]"
          },
          "metadata": {}
        }
      ]
    },
    {
      "cell_type": "markdown",
      "source": [
        "### 3. Train model\n",
        "The whole idea of training is for a model to move from some unknown parameters (these may be random) to some known parameters.\n",
        "\n",
        "Or in other words from a poor representation of the data to a better representation of the data.\n",
        "\n",
        "One way to measure how poor or how wrong your models predictions are is to use a loss function.\n",
        "\n",
        "* Note: Loss function may also be acalled cost function or criterion in different areas. For our case, we're going to refer to it as a loss function.\n",
        "\n",
        "Things we need to train:\n",
        "\n",
        "* **Loss function:** A function to mensure how wrong is your model's predictions are to the ideal outputs, lower is better.\n",
        "* **Optimizer:** Takes into account the loss of a model and adjusts the model's parameters (e.g. weight & bias in our case )  to improve the loss function.\n",
        "\n",
        "And specifically to PyTorch, we need:\n",
        "* A training loop\n",
        "* A testing loop"
      ],
      "metadata": {
        "id": "-zwDwJlDto5-"
      }
    },
    {
      "cell_type": "code",
      "source": [
        "list(model_0.parameters())"
      ],
      "metadata": {
        "colab": {
          "base_uri": "https://localhost:8080/"
        },
        "id": "rd5pAvF5uhUI",
        "outputId": "1887971b-d914-4b9c-c52b-6416bd58b174"
      },
      "execution_count": 102,
      "outputs": [
        {
          "output_type": "execute_result",
          "data": {
            "text/plain": [
              "[Parameter containing:\n",
              " tensor([0.8823], requires_grad=True),\n",
              " Parameter containing:\n",
              " tensor([0.9150], requires_grad=True)]"
            ]
          },
          "metadata": {},
          "execution_count": 102
        }
      ]
    },
    {
      "cell_type": "code",
      "source": [
        "#Setup a loss function]\n",
        "loss_fn = nn.L1Loss()\n",
        "#Setup a optimizer\n",
        "optimizer = torch.optim.SGD(params = model_0.parameters(),\n",
        "                            lr = 0.01)"
      ],
      "metadata": {
        "id": "aSbEL_iEygkW"
      },
      "execution_count": 135,
      "outputs": []
    },
    {
      "cell_type": "markdown",
      "source": [
        "### Building a training loop (and a testing loop) in PyTorch\n",
        "\n",
        "A couple of things we need in a training loop:\n",
        "\n",
        "0. Loop through the data\n",
        "1. Forward pass (this involves data moving through our model's `foward()`functions to make predictions on data - also called forward propagation\n",
        "2. Calculate the loss (compare forward pass predictions to ground truth labels)\n",
        "3. Optimizer zero grad\n",
        "4. Loss bakward - move backwards through the network to calculate the gradients of each of the parameters of our model with respect to the loss (**Backpropagation**)\n",
        "5. Optimizer step - use the optimizer to adjust our model's parameters to try and improve the loss (**gradient descent**)\n",
        "\n"
      ],
      "metadata": {
        "id": "WVLw-pyO-rlV"
      }
    },
    {
      "cell_type": "code",
      "source": [
        "list(model_0.parameters())"
      ],
      "metadata": {
        "colab": {
          "base_uri": "https://localhost:8080/"
        },
        "id": "nRnYhPd3BQEK",
        "outputId": "28e3724f-9f08-47bb-8e75-faf7842b5566"
      },
      "execution_count": 91,
      "outputs": [
        {
          "output_type": "execute_result",
          "data": {
            "text/plain": [
              "[Parameter containing:\n",
              " tensor([0.8823], requires_grad=True),\n",
              " Parameter containing:\n",
              " tensor([0.9150], requires_grad=True)]"
            ]
          },
          "metadata": {},
          "execution_count": 91
        }
      ]
    },
    {
      "cell_type": "code",
      "source": [
        "# An epoch is one loop through the data ...\n",
        "\n",
        "epochs = 200\n",
        "\n",
        "epoch_count = []\n",
        "loss_values = []\n",
        "test_loss_values = []\n",
        "\n",
        "### Training\n",
        "# 0. Loop through the data\n",
        "for epochs in range (epochs):\n",
        "   #Set the model to training mode\n",
        "  model_0.train()\n",
        "\n",
        "  #1. Forward pass\n",
        "  y_pred = model_0 (x_train)\n",
        "\n",
        "  #2. Calculate the loss\n",
        "  loss = loss_fn(y_pred, y_train)\n",
        "\n",
        "\n",
        "  #3. Optimizer zero pred\n",
        "  optimizer.zero_grad()\n",
        "\n",
        "  #4. Perform back propagation on the loss with respect to the parameters of the model\n",
        "  loss.backward()\n",
        "\n",
        "  #5. Step the optimizer (perform gradient descent)\n",
        "  optimizer.step() #by default how thw optimizer changes will accumulate through the loop so we have to zero them above in step 3 for the next interction of the loop\n",
        "\n",
        "###Testing\n",
        "  model_0.eval() #turns off gradient setimgs in the model not needed for evaluation/testing (dropout/batch norm layers)\n",
        "  with torch.inference_mode(): #Turns off gradient tracking annd a couple more things behinf the scenes\n",
        "#with torch.no_grad(): #You may also see torch.no_grad()in older PyTorch code\n",
        "  #1. Do theforward pass\n",
        "    test_pred = model_0(x_test)\n",
        "  #2. Calculate the loss\n",
        "    test_loss = loss_fn(test_pred, y_test)\n",
        "#Print out what's happenin\n",
        "  if epochs % 10 == 0:\n",
        "    epoch_count.append(epochs)\n",
        "    loss_values.append(loss)\n",
        "    test_loss_values.append(test_loss)\n",
        "    print(f\"Epoch: {epochs}| Loss: {loss}| Test loss:{test_loss}\")\n",
        "  #Print out model state_dict()\n",
        "print(model_0.state_dict())\n",
        "\n",
        "\n",
        "\n",
        "\n"
      ],
      "metadata": {
        "id": "gsai78r0APXO",
        "colab": {
          "base_uri": "https://localhost:8080/"
        },
        "outputId": "138a7ba0-dd9f-4325-8602-cc0c9abb46a0"
      },
      "execution_count": 136,
      "outputs": [
        {
          "output_type": "stream",
          "name": "stdout",
          "text": [
            "Epoch: 0| Loss: 0.6860889196395874| Test loss:0.7637526988983154\n",
            "Epoch: 10| Loss: 0.5708791017532349| Test loss:0.6290428042411804\n",
            "Epoch: 20| Loss: 0.45566922426223755| Test loss:0.4943329691886902\n",
            "Epoch: 30| Loss: 0.34045934677124023| Test loss:0.35962313413619995\n",
            "Epoch: 40| Loss: 0.2252494841814041| Test loss:0.2249133139848709\n",
            "Epoch: 50| Loss: 0.1100396141409874| Test loss:0.09020347893238068\n",
            "Epoch: 60| Loss: 0.009724985808134079| Test loss:0.020998019725084305\n",
            "Epoch: 70| Loss: 0.006216754671186209| Test loss:0.014099234715104103\n",
            "Epoch: 80| Loss: 0.002788322512060404| Test loss:0.005826681852340698\n",
            "Epoch: 90| Loss: 0.007095950655639172| Test loss:0.00754010071977973\n",
            "Epoch: 100| Loss: 0.007095950655639172| Test loss:0.00754010071977973\n",
            "Epoch: 110| Loss: 0.007095950655639172| Test loss:0.00754010071977973\n",
            "Epoch: 120| Loss: 0.007095950655639172| Test loss:0.00754010071977973\n",
            "Epoch: 130| Loss: 0.007095950655639172| Test loss:0.00754010071977973\n",
            "Epoch: 140| Loss: 0.007095950655639172| Test loss:0.00754010071977973\n",
            "Epoch: 150| Loss: 0.007095950655639172| Test loss:0.00754010071977973\n",
            "Epoch: 160| Loss: 0.007095950655639172| Test loss:0.00754010071977973\n",
            "Epoch: 170| Loss: 0.007095950655639172| Test loss:0.00754010071977973\n",
            "Epoch: 180| Loss: 0.007095950655639172| Test loss:0.00754010071977973\n",
            "Epoch: 190| Loss: 0.007095950655639172| Test loss:0.00754010071977973\n",
            "OrderedDict({'weight': tensor([0.6977]), 'bias': tensor([0.3080])})\n"
          ]
        }
      ]
    },
    {
      "cell_type": "code",
      "source": [
        "epoch_count, loss_values, test_loss_values"
      ],
      "metadata": {
        "colab": {
          "base_uri": "https://localhost:8080/"
        },
        "id": "_cNz8zYxj1f1",
        "outputId": "f87c66c5-7922-4bdb-cab7-f8cbb396bad5"
      },
      "execution_count": 137,
      "outputs": [
        {
          "output_type": "execute_result",
          "data": {
            "text/plain": [
              "([0,\n",
              "  10,\n",
              "  20,\n",
              "  30,\n",
              "  40,\n",
              "  50,\n",
              "  60,\n",
              "  70,\n",
              "  80,\n",
              "  90,\n",
              "  100,\n",
              "  110,\n",
              "  120,\n",
              "  130,\n",
              "  140,\n",
              "  150,\n",
              "  160,\n",
              "  170,\n",
              "  180,\n",
              "  190],\n",
              " [tensor(0.6861, grad_fn=<MeanBackward0>),\n",
              "  tensor(0.5709, grad_fn=<MeanBackward0>),\n",
              "  tensor(0.4557, grad_fn=<MeanBackward0>),\n",
              "  tensor(0.3405, grad_fn=<MeanBackward0>),\n",
              "  tensor(0.2252, grad_fn=<MeanBackward0>),\n",
              "  tensor(0.1100, grad_fn=<MeanBackward0>),\n",
              "  tensor(0.0097, grad_fn=<MeanBackward0>),\n",
              "  tensor(0.0062, grad_fn=<MeanBackward0>),\n",
              "  tensor(0.0028, grad_fn=<MeanBackward0>),\n",
              "  tensor(0.0071, grad_fn=<MeanBackward0>),\n",
              "  tensor(0.0071, grad_fn=<MeanBackward0>),\n",
              "  tensor(0.0071, grad_fn=<MeanBackward0>),\n",
              "  tensor(0.0071, grad_fn=<MeanBackward0>),\n",
              "  tensor(0.0071, grad_fn=<MeanBackward0>),\n",
              "  tensor(0.0071, grad_fn=<MeanBackward0>),\n",
              "  tensor(0.0071, grad_fn=<MeanBackward0>),\n",
              "  tensor(0.0071, grad_fn=<MeanBackward0>),\n",
              "  tensor(0.0071, grad_fn=<MeanBackward0>),\n",
              "  tensor(0.0071, grad_fn=<MeanBackward0>),\n",
              "  tensor(0.0071, grad_fn=<MeanBackward0>)],\n",
              " [tensor(0.7638),\n",
              "  tensor(0.6290),\n",
              "  tensor(0.4943),\n",
              "  tensor(0.3596),\n",
              "  tensor(0.2249),\n",
              "  tensor(0.0902),\n",
              "  tensor(0.0210),\n",
              "  tensor(0.0141),\n",
              "  tensor(0.0058),\n",
              "  tensor(0.0075),\n",
              "  tensor(0.0075),\n",
              "  tensor(0.0075),\n",
              "  tensor(0.0075),\n",
              "  tensor(0.0075),\n",
              "  tensor(0.0075),\n",
              "  tensor(0.0075),\n",
              "  tensor(0.0075),\n",
              "  tensor(0.0075),\n",
              "  tensor(0.0075),\n",
              "  tensor(0.0075)])"
            ]
          },
          "metadata": {},
          "execution_count": 137
        }
      ]
    },
    {
      "cell_type": "code",
      "source": [
        "#Plot the loss courves\n",
        "plt.plot(epoch_count ,loss_values, label = \"Train loss\")\n",
        "plt.plot(epoch_count,test_loss_values, labels = \"Test loss\")\n",
        "plt.title(\"Traininig and test loss curves\")\n",
        "plt.yLabel(\"Loss\")\n",
        "plt.xlabel(\"Epochs\")\n",
        "plt.legend();"
      ],
      "metadata": {
        "colab": {
          "base_uri": "https://localhost:8080/",
          "height": 793
        },
        "id": "eKe-n8X7jwhD",
        "outputId": "871b3c34-22ba-41f9-e306-75793291744d"
      },
      "execution_count": 139,
      "outputs": [
        {
          "output_type": "error",
          "ename": "RuntimeError",
          "evalue": "Can't call numpy() on Tensor that requires grad. Use tensor.detach().numpy() instead.",
          "traceback": [
            "\u001b[0;31m---------------------------------------------------------------------------\u001b[0m",
            "\u001b[0;31mRuntimeError\u001b[0m                              Traceback (most recent call last)",
            "\u001b[0;32m/tmp/ipython-input-209131987.py\u001b[0m in \u001b[0;36m<cell line: 0>\u001b[0;34m()\u001b[0m\n\u001b[1;32m      1\u001b[0m \u001b[0;31m#Plot the loss courves\u001b[0m\u001b[0;34m\u001b[0m\u001b[0;34m\u001b[0m\u001b[0m\n\u001b[0;32m----> 2\u001b[0;31m \u001b[0mplt\u001b[0m\u001b[0;34m.\u001b[0m\u001b[0mplot\u001b[0m\u001b[0;34m(\u001b[0m\u001b[0mepoch_count\u001b[0m \u001b[0;34m,\u001b[0m\u001b[0mloss_values\u001b[0m\u001b[0;34m,\u001b[0m \u001b[0mlabel\u001b[0m \u001b[0;34m=\u001b[0m \u001b[0;34m\"Train loss\"\u001b[0m\u001b[0;34m)\u001b[0m\u001b[0;34m\u001b[0m\u001b[0;34m\u001b[0m\u001b[0m\n\u001b[0m\u001b[1;32m      3\u001b[0m \u001b[0mplt\u001b[0m\u001b[0;34m.\u001b[0m\u001b[0mplot\u001b[0m\u001b[0;34m(\u001b[0m\u001b[0mepoch_count\u001b[0m\u001b[0;34m,\u001b[0m\u001b[0mtest_loss_values\u001b[0m\u001b[0;34m,\u001b[0m \u001b[0mlabels\u001b[0m \u001b[0;34m=\u001b[0m \u001b[0;34m\"Test loss\"\u001b[0m\u001b[0;34m)\u001b[0m\u001b[0;34m\u001b[0m\u001b[0;34m\u001b[0m\u001b[0m\n\u001b[1;32m      4\u001b[0m \u001b[0mplt\u001b[0m\u001b[0;34m.\u001b[0m\u001b[0mtitle\u001b[0m\u001b[0;34m(\u001b[0m\u001b[0;34m\"Traininig and test loss curves\"\u001b[0m\u001b[0;34m)\u001b[0m\u001b[0;34m\u001b[0m\u001b[0;34m\u001b[0m\u001b[0m\n\u001b[1;32m      5\u001b[0m \u001b[0mplt\u001b[0m\u001b[0;34m.\u001b[0m\u001b[0myLabel\u001b[0m\u001b[0;34m(\u001b[0m\u001b[0;34m\"Loss\"\u001b[0m\u001b[0;34m)\u001b[0m\u001b[0;34m\u001b[0m\u001b[0;34m\u001b[0m\u001b[0m\n",
            "\u001b[0;32m/usr/local/lib/python3.12/dist-packages/matplotlib/pyplot.py\u001b[0m in \u001b[0;36mplot\u001b[0;34m(scalex, scaley, data, *args, **kwargs)\u001b[0m\n\u001b[1;32m   3827\u001b[0m     \u001b[0;34m**\u001b[0m\u001b[0mkwargs\u001b[0m\u001b[0;34m,\u001b[0m\u001b[0;34m\u001b[0m\u001b[0;34m\u001b[0m\u001b[0m\n\u001b[1;32m   3828\u001b[0m ) -> list[Line2D]:\n\u001b[0;32m-> 3829\u001b[0;31m     return gca().plot(\n\u001b[0m\u001b[1;32m   3830\u001b[0m         \u001b[0;34m*\u001b[0m\u001b[0margs\u001b[0m\u001b[0;34m,\u001b[0m\u001b[0;34m\u001b[0m\u001b[0;34m\u001b[0m\u001b[0m\n\u001b[1;32m   3831\u001b[0m         \u001b[0mscalex\u001b[0m\u001b[0;34m=\u001b[0m\u001b[0mscalex\u001b[0m\u001b[0;34m,\u001b[0m\u001b[0;34m\u001b[0m\u001b[0;34m\u001b[0m\u001b[0m\n",
            "\u001b[0;32m/usr/local/lib/python3.12/dist-packages/matplotlib/axes/_axes.py\u001b[0m in \u001b[0;36mplot\u001b[0;34m(self, scalex, scaley, data, *args, **kwargs)\u001b[0m\n\u001b[1;32m   1775\u001b[0m         \"\"\"\n\u001b[1;32m   1776\u001b[0m         \u001b[0mkwargs\u001b[0m \u001b[0;34m=\u001b[0m \u001b[0mcbook\u001b[0m\u001b[0;34m.\u001b[0m\u001b[0mnormalize_kwargs\u001b[0m\u001b[0;34m(\u001b[0m\u001b[0mkwargs\u001b[0m\u001b[0;34m,\u001b[0m \u001b[0mmlines\u001b[0m\u001b[0;34m.\u001b[0m\u001b[0mLine2D\u001b[0m\u001b[0;34m)\u001b[0m\u001b[0;34m\u001b[0m\u001b[0;34m\u001b[0m\u001b[0m\n\u001b[0;32m-> 1777\u001b[0;31m         \u001b[0mlines\u001b[0m \u001b[0;34m=\u001b[0m \u001b[0;34m[\u001b[0m\u001b[0;34m*\u001b[0m\u001b[0mself\u001b[0m\u001b[0;34m.\u001b[0m\u001b[0m_get_lines\u001b[0m\u001b[0;34m(\u001b[0m\u001b[0mself\u001b[0m\u001b[0;34m,\u001b[0m \u001b[0;34m*\u001b[0m\u001b[0margs\u001b[0m\u001b[0;34m,\u001b[0m \u001b[0mdata\u001b[0m\u001b[0;34m=\u001b[0m\u001b[0mdata\u001b[0m\u001b[0;34m,\u001b[0m \u001b[0;34m**\u001b[0m\u001b[0mkwargs\u001b[0m\u001b[0;34m)\u001b[0m\u001b[0;34m]\u001b[0m\u001b[0;34m\u001b[0m\u001b[0;34m\u001b[0m\u001b[0m\n\u001b[0m\u001b[1;32m   1778\u001b[0m         \u001b[0;32mfor\u001b[0m \u001b[0mline\u001b[0m \u001b[0;32min\u001b[0m \u001b[0mlines\u001b[0m\u001b[0;34m:\u001b[0m\u001b[0;34m\u001b[0m\u001b[0;34m\u001b[0m\u001b[0m\n\u001b[1;32m   1779\u001b[0m             \u001b[0mself\u001b[0m\u001b[0;34m.\u001b[0m\u001b[0madd_line\u001b[0m\u001b[0;34m(\u001b[0m\u001b[0mline\u001b[0m\u001b[0;34m)\u001b[0m\u001b[0;34m\u001b[0m\u001b[0;34m\u001b[0m\u001b[0m\n",
            "\u001b[0;32m/usr/local/lib/python3.12/dist-packages/matplotlib/axes/_base.py\u001b[0m in \u001b[0;36m__call__\u001b[0;34m(self, axes, data, return_kwargs, *args, **kwargs)\u001b[0m\n\u001b[1;32m    295\u001b[0m                 \u001b[0mthis\u001b[0m \u001b[0;34m+=\u001b[0m \u001b[0margs\u001b[0m\u001b[0;34m[\u001b[0m\u001b[0;36m0\u001b[0m\u001b[0;34m]\u001b[0m\u001b[0;34m,\u001b[0m\u001b[0;34m\u001b[0m\u001b[0;34m\u001b[0m\u001b[0m\n\u001b[1;32m    296\u001b[0m                 \u001b[0margs\u001b[0m \u001b[0;34m=\u001b[0m \u001b[0margs\u001b[0m\u001b[0;34m[\u001b[0m\u001b[0;36m1\u001b[0m\u001b[0;34m:\u001b[0m\u001b[0;34m]\u001b[0m\u001b[0;34m\u001b[0m\u001b[0;34m\u001b[0m\u001b[0m\n\u001b[0;32m--> 297\u001b[0;31m             yield from self._plot_args(\n\u001b[0m\u001b[1;32m    298\u001b[0m                 \u001b[0maxes\u001b[0m\u001b[0;34m,\u001b[0m \u001b[0mthis\u001b[0m\u001b[0;34m,\u001b[0m \u001b[0mkwargs\u001b[0m\u001b[0;34m,\u001b[0m \u001b[0mambiguous_fmt_datakey\u001b[0m\u001b[0;34m=\u001b[0m\u001b[0mambiguous_fmt_datakey\u001b[0m\u001b[0;34m,\u001b[0m\u001b[0;34m\u001b[0m\u001b[0;34m\u001b[0m\u001b[0m\n\u001b[1;32m    299\u001b[0m                 \u001b[0mreturn_kwargs\u001b[0m\u001b[0;34m=\u001b[0m\u001b[0mreturn_kwargs\u001b[0m\u001b[0;34m\u001b[0m\u001b[0;34m\u001b[0m\u001b[0m\n",
            "\u001b[0;32m/usr/local/lib/python3.12/dist-packages/matplotlib/axes/_base.py\u001b[0m in \u001b[0;36m_plot_args\u001b[0;34m(self, axes, tup, kwargs, return_kwargs, ambiguous_fmt_datakey)\u001b[0m\n\u001b[1;32m    482\u001b[0m         \u001b[0;32mif\u001b[0m \u001b[0mlen\u001b[0m\u001b[0;34m(\u001b[0m\u001b[0mxy\u001b[0m\u001b[0;34m)\u001b[0m \u001b[0;34m==\u001b[0m \u001b[0;36m2\u001b[0m\u001b[0;34m:\u001b[0m\u001b[0;34m\u001b[0m\u001b[0;34m\u001b[0m\u001b[0m\n\u001b[1;32m    483\u001b[0m             \u001b[0mx\u001b[0m \u001b[0;34m=\u001b[0m \u001b[0m_check_1d\u001b[0m\u001b[0;34m(\u001b[0m\u001b[0mxy\u001b[0m\u001b[0;34m[\u001b[0m\u001b[0;36m0\u001b[0m\u001b[0;34m]\u001b[0m\u001b[0;34m)\u001b[0m\u001b[0;34m\u001b[0m\u001b[0;34m\u001b[0m\u001b[0m\n\u001b[0;32m--> 484\u001b[0;31m             \u001b[0my\u001b[0m \u001b[0;34m=\u001b[0m \u001b[0m_check_1d\u001b[0m\u001b[0;34m(\u001b[0m\u001b[0mxy\u001b[0m\u001b[0;34m[\u001b[0m\u001b[0;36m1\u001b[0m\u001b[0;34m]\u001b[0m\u001b[0;34m)\u001b[0m\u001b[0;34m\u001b[0m\u001b[0;34m\u001b[0m\u001b[0m\n\u001b[0m\u001b[1;32m    485\u001b[0m         \u001b[0;32melse\u001b[0m\u001b[0;34m:\u001b[0m\u001b[0;34m\u001b[0m\u001b[0;34m\u001b[0m\u001b[0m\n\u001b[1;32m    486\u001b[0m             \u001b[0mx\u001b[0m\u001b[0;34m,\u001b[0m \u001b[0my\u001b[0m \u001b[0;34m=\u001b[0m \u001b[0mindex_of\u001b[0m\u001b[0;34m(\u001b[0m\u001b[0mxy\u001b[0m\u001b[0;34m[\u001b[0m\u001b[0;34m-\u001b[0m\u001b[0;36m1\u001b[0m\u001b[0;34m]\u001b[0m\u001b[0;34m)\u001b[0m\u001b[0;34m\u001b[0m\u001b[0;34m\u001b[0m\u001b[0m\n",
            "\u001b[0;32m/usr/local/lib/python3.12/dist-packages/matplotlib/cbook.py\u001b[0m in \u001b[0;36m_check_1d\u001b[0;34m(x)\u001b[0m\n\u001b[1;32m   1356\u001b[0m             \u001b[0;32mnot\u001b[0m \u001b[0mhasattr\u001b[0m\u001b[0;34m(\u001b[0m\u001b[0mx\u001b[0m\u001b[0;34m,\u001b[0m \u001b[0;34m'ndim'\u001b[0m\u001b[0;34m)\u001b[0m \u001b[0;32mor\u001b[0m\u001b[0;34m\u001b[0m\u001b[0;34m\u001b[0m\u001b[0m\n\u001b[1;32m   1357\u001b[0m             len(x.shape) < 1):\n\u001b[0;32m-> 1358\u001b[0;31m         \u001b[0;32mreturn\u001b[0m \u001b[0mnp\u001b[0m\u001b[0;34m.\u001b[0m\u001b[0matleast_1d\u001b[0m\u001b[0;34m(\u001b[0m\u001b[0mx\u001b[0m\u001b[0;34m)\u001b[0m\u001b[0;34m\u001b[0m\u001b[0;34m\u001b[0m\u001b[0m\n\u001b[0m\u001b[1;32m   1359\u001b[0m     \u001b[0;32melse\u001b[0m\u001b[0;34m:\u001b[0m\u001b[0;34m\u001b[0m\u001b[0;34m\u001b[0m\u001b[0m\n\u001b[1;32m   1360\u001b[0m         \u001b[0;32mreturn\u001b[0m \u001b[0mx\u001b[0m\u001b[0;34m\u001b[0m\u001b[0;34m\u001b[0m\u001b[0m\n",
            "\u001b[0;32m/usr/local/lib/python3.12/dist-packages/numpy/_core/shape_base.py\u001b[0m in \u001b[0;36matleast_1d\u001b[0;34m(*arys)\u001b[0m\n\u001b[1;32m     63\u001b[0m     \u001b[0mres\u001b[0m \u001b[0;34m=\u001b[0m \u001b[0;34m[\u001b[0m\u001b[0;34m]\u001b[0m\u001b[0;34m\u001b[0m\u001b[0;34m\u001b[0m\u001b[0m\n\u001b[1;32m     64\u001b[0m     \u001b[0;32mfor\u001b[0m \u001b[0mary\u001b[0m \u001b[0;32min\u001b[0m \u001b[0marys\u001b[0m\u001b[0;34m:\u001b[0m\u001b[0;34m\u001b[0m\u001b[0;34m\u001b[0m\u001b[0m\n\u001b[0;32m---> 65\u001b[0;31m         \u001b[0mary\u001b[0m \u001b[0;34m=\u001b[0m \u001b[0masanyarray\u001b[0m\u001b[0;34m(\u001b[0m\u001b[0mary\u001b[0m\u001b[0;34m)\u001b[0m\u001b[0;34m\u001b[0m\u001b[0;34m\u001b[0m\u001b[0m\n\u001b[0m\u001b[1;32m     66\u001b[0m         \u001b[0;32mif\u001b[0m \u001b[0mary\u001b[0m\u001b[0;34m.\u001b[0m\u001b[0mndim\u001b[0m \u001b[0;34m==\u001b[0m \u001b[0;36m0\u001b[0m\u001b[0;34m:\u001b[0m\u001b[0;34m\u001b[0m\u001b[0;34m\u001b[0m\u001b[0m\n\u001b[1;32m     67\u001b[0m             \u001b[0mresult\u001b[0m \u001b[0;34m=\u001b[0m \u001b[0mary\u001b[0m\u001b[0;34m.\u001b[0m\u001b[0mreshape\u001b[0m\u001b[0;34m(\u001b[0m\u001b[0;36m1\u001b[0m\u001b[0;34m)\u001b[0m\u001b[0;34m\u001b[0m\u001b[0;34m\u001b[0m\u001b[0m\n",
            "\u001b[0;32m/usr/local/lib/python3.12/dist-packages/torch/_tensor.py\u001b[0m in \u001b[0;36m__array__\u001b[0;34m(self, dtype)\u001b[0m\n\u001b[1;32m   1224\u001b[0m             \u001b[0;32mreturn\u001b[0m \u001b[0mhandle_torch_function\u001b[0m\u001b[0;34m(\u001b[0m\u001b[0mTensor\u001b[0m\u001b[0;34m.\u001b[0m\u001b[0m__array__\u001b[0m\u001b[0;34m,\u001b[0m \u001b[0;34m(\u001b[0m\u001b[0mself\u001b[0m\u001b[0;34m,\u001b[0m\u001b[0;34m)\u001b[0m\u001b[0;34m,\u001b[0m \u001b[0mself\u001b[0m\u001b[0;34m,\u001b[0m \u001b[0mdtype\u001b[0m\u001b[0;34m=\u001b[0m\u001b[0mdtype\u001b[0m\u001b[0;34m)\u001b[0m\u001b[0;34m\u001b[0m\u001b[0;34m\u001b[0m\u001b[0m\n\u001b[1;32m   1225\u001b[0m         \u001b[0;32mif\u001b[0m \u001b[0mdtype\u001b[0m \u001b[0;32mis\u001b[0m \u001b[0;32mNone\u001b[0m\u001b[0;34m:\u001b[0m\u001b[0;34m\u001b[0m\u001b[0;34m\u001b[0m\u001b[0m\n\u001b[0;32m-> 1226\u001b[0;31m             \u001b[0;32mreturn\u001b[0m \u001b[0mself\u001b[0m\u001b[0;34m.\u001b[0m\u001b[0mnumpy\u001b[0m\u001b[0;34m(\u001b[0m\u001b[0;34m)\u001b[0m\u001b[0;34m\u001b[0m\u001b[0;34m\u001b[0m\u001b[0m\n\u001b[0m\u001b[1;32m   1227\u001b[0m         \u001b[0;32melse\u001b[0m\u001b[0;34m:\u001b[0m\u001b[0;34m\u001b[0m\u001b[0;34m\u001b[0m\u001b[0m\n\u001b[1;32m   1228\u001b[0m             \u001b[0;32mreturn\u001b[0m \u001b[0mself\u001b[0m\u001b[0;34m.\u001b[0m\u001b[0mnumpy\u001b[0m\u001b[0;34m(\u001b[0m\u001b[0;34m)\u001b[0m\u001b[0;34m.\u001b[0m\u001b[0mastype\u001b[0m\u001b[0;34m(\u001b[0m\u001b[0mdtype\u001b[0m\u001b[0;34m,\u001b[0m \u001b[0mcopy\u001b[0m\u001b[0;34m=\u001b[0m\u001b[0;32mFalse\u001b[0m\u001b[0;34m)\u001b[0m\u001b[0;34m\u001b[0m\u001b[0;34m\u001b[0m\u001b[0m\n",
            "\u001b[0;31mRuntimeError\u001b[0m: Can't call numpy() on Tensor that requires grad. Use tensor.detach().numpy() instead."
          ]
        },
        {
          "output_type": "display_data",
          "data": {
            "text/plain": [
              "<Figure size 640x480 with 1 Axes>"
            ],
            "image/png": "[encoded data removed]"
          },
          "metadata": {}
        }
      ]
    },
    {
      "cell_type": "code",
      "source": [
        "with torch.inference_mode():\n",
        "  y_preds_new = model_0(x_test)"
      ],
      "metadata": {
        "id": "aSt7QvUbX5jW"
      },
      "execution_count": 127,
      "outputs": []
    },
    {
      "cell_type": "code",
      "source": [
        "plot_predictions(predictions = y_preds_new)"
      ],
      "metadata": {
        "colab": {
          "base_uri": "https://localhost:8080/",
          "height": 599
        },
        "id": "al7CxnQbYOhz",
        "outputId": "f3e64a27-9c49-429b-d96b-10cd030f5475"
      },
      "execution_count": 128,
      "outputs": [
        {
          "output_type": "display_data",
          "data": {
            "text/plain": [
              "<Figure size 1000x700 with 1 Axes>"
            ],
            "image/png": "[encoded data removed]"
          },
          "metadata": {}
        }
      ]
    },
    {
      "cell_type": "code",
      "source": [
        "model_0.state_dict()"
      ],
      "metadata": {
        "colab": {
          "base_uri": "https://localhost:8080/"
        },
        "id": "uhrJt-mnWdC8",
        "outputId": "a2e5366b-cddb-4a60-b3f5-08f414decbd4"
      },
      "execution_count": 129,
      "outputs": [
        {
          "output_type": "execute_result",
          "data": {
            "text/plain": [
              "OrderedDict([('weight', tensor([0.6977])), ('bias', tensor([0.3080]))])"
            ]
          },
          "metadata": {},
          "execution_count": 129
        }
      ]
    },
    {
      "cell_type": "code",
      "source": [
        "weight, bias"
      ],
      "metadata": {
        "colab": {
          "base_uri": "https://localhost:8080/"
        },
        "id": "UBlO7YmzWjt8",
        "outputId": "7cb36c51-1931-477a-8ff1-918380550f3a"
      },
      "execution_count": 130,
      "outputs": [
        {
          "output_type": "execute_result",
          "data": {
            "text/plain": [
              "(0.7, 0.3)"
            ]
          },
          "metadata": {},
          "execution_count": 130
        }
      ]
    },
    {
      "cell_type": "markdown",
      "source": [],
      "metadata": {
        "id": "2Ht928EnVoRy"
      }
    }
  ]
}