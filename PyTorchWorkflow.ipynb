{
  "nbformat": 4,
  "nbformat_minor": 0,
  "metadata": {
    "colab": {
      "provenance": [],
      "authorship_tag": "ABX9TyMEOZ4AN0fA+VEu6NsCPfQ3",
      "include_colab_link": true
    },
    "kernelspec": {
      "name": "python3",
      "display_name": "Python 3"
    },
    "language_info": {
      "name": "python"
    }
  },
  "cells": [
    {
      "cell_type": "markdown",
      "metadata": {
        "id": "view-in-github",
        "colab_type": "text"
      },
      "source": [
        "<a href=\"https://colab.research.google.com/github/jorgemelo10/CursoPyTorch-/blob/main/PyTorchWorkflow.ipynb\" target=\"_parent\"><img src=\"https://colab.research.google.com/assets/colab-badge.svg\" alt=\"Open In Colab\"/></a>"
      ]
    },
    {
      "cell_type": "code",
      "execution_count": 18,
      "metadata": {
        "id": "AhPwxI7Z4C5w"
      },
      "outputs": [],
      "source": [
        "import torch\n",
        "import pandas as pd\n",
        "import numpy as np\n",
        "import matplotlib.pyplot as plt"
      ]
    },
    {
      "cell_type": "markdown",
      "source": [
        "##1. Data (PREPARING AND LOADING)\n",
        "* Excel speadsheet\n",
        "* Images of any kind\n",
        "* Videos (youtube has lot of data...)\n",
        "* Audio like songs and podcasts\n",
        "* DNA\n",
        "* Text\n",
        "\n",
        "Machine learning ia a game pf two parts:\n",
        "1. Get data into numerical representation.\n",
        "2. Build a model to learn patterns in that numerical representation.\n",
        "\n",
        "To showcase this, let's creat some *known* data  using the linear regression formula.\n",
        "We'll use a linear regression formula to make a straight line with known *parameters*."
      ],
      "metadata": {
        "id": "AyHdhAl94LkD"
      }
    },
    {
      "cell_type": "code",
      "source": [
        "#Create known parameters\n",
        "weight = 0.7\n",
        "bias = 0.3\n",
        "\n",
        "#Create\n",
        "start = 0\n",
        "end = 1\n",
        "step = 0.02\n",
        "X = torch.arange(start,end,step).unsqueeze(dim=1)\n",
        "y = weight * X + bias\n",
        "X[:10], y[:10]\n"
      ],
      "metadata": {
        "colab": {
          "base_uri": "https://localhost:8080/"
        },
        "id": "JmcmOn3e4-LP",
        "outputId": "c99b513f-28d9-4ba1-f4e8-79e9c25539c2"
      },
      "execution_count": 19,
      "outputs": [
        {
          "output_type": "execute_result",
          "data": {
            "text/plain": [
              "(tensor([[0.0000],\n",
              "         [0.0200],\n",
              "         [0.0400],\n",
              "         [0.0600],\n",
              "         [0.0800],\n",
              "         [0.1000],\n",
              "         [0.1200],\n",
              "         [0.1400],\n",
              "         [0.1600],\n",
              "         [0.1800]]),\n",
              " tensor([[0.3000],\n",
              "         [0.3140],\n",
              "         [0.3280],\n",
              "         [0.3420],\n",
              "         [0.3560],\n",
              "         [0.3700],\n",
              "         [0.3840],\n",
              "         [0.3980],\n",
              "         [0.4120],\n",
              "         [0.4260]]))"
            ]
          },
          "metadata": {},
          "execution_count": 19
        }
      ]
    },
    {
      "cell_type": "markdown",
      "source": [
        "### Splitting data into training and test sets (one of the most concepts in machine learning in general)"
      ],
      "metadata": {
        "id": "jRVMP_nY7U9I"
      }
    },
    {
      "cell_type": "code",
      "source": [
        "## Create a train/test split\n",
        "train_split = int(0.8* len(X))\n",
        "x_train, y_train = X[:train_split], y[:train_split]\n",
        "x_test, y_test = X[train_split:], y[train_split:]\n",
        "\n",
        "len(x_train) , len(y_train), len(x_test), len(y_test)\n",
        "\n"
      ],
      "metadata": {
        "colab": {
          "base_uri": "https://localhost:8080/"
        },
        "id": "BOprlEiZ7rGC",
        "outputId": "53f3cb89-c3f5-4e65-f7f0-0e9e3e56cae8"
      },
      "execution_count": 20,
      "outputs": [
        {
          "output_type": "execute_result",
          "data": {
            "text/plain": [
              "(40, 40, 10, 10)"
            ]
          },
          "metadata": {},
          "execution_count": 20
        }
      ]
    },
    {
      "cell_type": "markdown",
      "source": [
        "How might we better visualize our data?\n",
        "This is where the data explorer's motto comes in!"
      ],
      "metadata": {
        "id": "ielsC-Zn-znG"
      }
    },
    {
      "cell_type": "code",
      "source": [
        "def plot_predictions(train_data = x_train,\n",
        "                     train_labels = y_train,\n",
        "                     test_data = x_test,\n",
        "                     test_label = y_test,\n",
        "                     predictions = None):\n",
        "\n",
        "    \"\"\"\n",
        "    Plots training ddata, test data and compare predictions.\n",
        "    \"\"\"\n",
        "    plt.figure(figsize=(10,7))\n",
        "\n",
        "    #Plot training data in Blue\n",
        "    plt.scatter(train_data, train_labels, c = \"b\", s=4, label= \"Training data\")\n",
        "\n",
        "    #Plot test data in green\n",
        "    plt.scatter(test_data,test_label, c=\"g\", s=4, label=\"Testing data\")\n",
        "\n",
        "    #Are predictions?\n",
        "    if predictions is not None:\n",
        "    #Plot the Predictions if they exist\n",
        "      plt.scatter(test_data, predictions, c=\"r\", s=4, label= \"Predictions\")\n",
        "\n",
        "    #Show the legend\n",
        "    plt.legend(prop={\"size\": 14})"
      ],
      "metadata": {
        "id": "jqcBjM4h7JmC"
      },
      "execution_count": 21,
      "outputs": []
    },
    {
      "cell_type": "code",
      "source": [
        "plot_predictions()"
      ],
      "metadata": {
        "colab": {
          "base_uri": "https://localhost:8080/",
          "height": 599
        },
        "id": "w62_n_RQCrz9",
        "outputId": "90facf4c-24fc-405c-a000-a932b8c772d2"
      },
      "execution_count": 22,
      "outputs": [
        {
          "output_type": "display_data",
          "data": {
            "text/plain": [
              "<Figure size 1000x700 with 1 Axes>"
            ],
            "image/png": "[encoded data removed]"
          },
          "metadata": {}
        }
      ]
    },
    {
      "cell_type": "markdown",
      "source": [
        "## 2. Build model\n",
        "Our first PyTorch model\n",
        "\n",
        "What the model does:\n",
        "* Start with random values (wheight and bias)\n",
        "* Look at training data and adjust the random values to better represent ( or get closer) the ideal values (the wheight and bias values we used to create the data)"
      ],
      "metadata": {
        "id": "5bghwOxVJ3om"
      }
    },
    {
      "cell_type": "code",
      "source": [
        "from torch import nn\n",
        "\n",
        " # Create a linear regression model class\n",
        "class LinearRegressionModel(nn.Module):\n",
        "  def __init__(self):\n",
        "    super().__init__()\n",
        "\n",
        "    # Initialize model parameters\n",
        "    self.weight = nn.Parameter(torch.rand(1,\n",
        "                                           requires_grad=True,\n",
        "                                           dtype = torch.float))\n",
        "    self.bias = nn.Parameter(torch.rand(1,\n",
        "                                        requires_grad = True,\n",
        "                                        dtype = torch.float))\n",
        "  #Forward method to define the computaion in the model\n",
        "  def forward(self,x: torch.Tensor) -> torch.Tensor:\n",
        "    return self.weight * x + self.bias\n",
        "\n",
        "\n",
        "\n"
      ],
      "metadata": {
        "id": "3nrjxMfeJdRm"
      },
      "execution_count": 23,
      "outputs": []
    },
    {
      "cell_type": "markdown",
      "source": [
        "### PyTorch model building essentials\n",
        "* torch.nn - contains all of the buildings for computational graphs (a neural network can be considered a computational graph)\n",
        "* torch.nn.Parameter - what parameters should our model try and learn, often a PyTorch layer from torch.nn will set these for us\n",
        "* torch.nn.Module - The base class for all neural network modules, if you subclass it, you should overwrite forward()\n",
        "* torch.optim - this where the optimizers in PyTorch live, they will help with gradient descent\n",
        "* def forward() - All nn.Module subclasses require you to overwrite forward(), this method defines what happens in the forward computation\n"
      ],
      "metadata": {
        "id": "fQ7le8AHjMnQ"
      }
    },
    {
      "cell_type": "markdown",
      "source": [
        "### Checking the contents of our Pytorch model\n"
      ],
      "metadata": {
        "id": "zaFjKGmDmDzO"
      }
    },
    {
      "cell_type": "markdown",
      "source": [],
      "metadata": {
        "id": "-lGBzfP3fGrG"
      }
    },
    {
      "cell_type": "code",
      "source": [
        "# Create a random seed\n",
        "torch.manual_seed(42)\n",
        "\n",
        "#Create an instance of the model\n",
        "model_0 = LinearRegressionModel()\n",
        "#Check out the parametedrs\n",
        "list(model_0.parameters())"
      ],
      "metadata": {
        "colab": {
          "base_uri": "https://localhost:8080/"
        },
        "id": "r7QaVRcPkHj6",
        "outputId": "6c597a71-667f-4931-f930-3faa793fbaa0"
      },
      "execution_count": 39,
      "outputs": [
        {
          "output_type": "execute_result",
          "data": {
            "text/plain": [
              "[Parameter containing:\n",
              " tensor([0.8823], requires_grad=True),\n",
              " Parameter containing:\n",
              " tensor([0.9150], requires_grad=True)]"
            ]
          },
          "metadata": {},
          "execution_count": 39
        }
      ]
    },
    {
      "cell_type": "markdown",
      "source": [
        "### Making predictions using `torch.inference_mode()`\n",
        "To check our model's predictieve power, let's see how well it predicts `y_test`based on `x_test`.\n",
        "\n",
        "When we pass dat through our model, it's going to run it through the `forward()`method."
      ],
      "metadata": {
        "id": "6FX-rexDoryx"
      }
    },
    {
      "cell_type": "code",
      "source": [
        "#Make predictions with model\n",
        "with torch.inference_mode():\n",
        "  y_preds =  model_0(x_test)\n",
        "y_preds"
      ],
      "metadata": {
        "colab": {
          "base_uri": "https://localhost:8080/"
        },
        "id": "4XTfD7C5peYU",
        "outputId": "ab9129fc-cbd4-4eb9-dd9c-683742f0f0c2"
      },
      "execution_count": 29,
      "outputs": [
        {
          "output_type": "execute_result",
          "data": {
            "text/plain": [
              "tensor([[1.6208],\n",
              "        [1.6385],\n",
              "        [1.6561],\n",
              "        [1.6738],\n",
              "        [1.6914],\n",
              "        [1.7090],\n",
              "        [1.7267],\n",
              "        [1.7443],\n",
              "        [1.7620],\n",
              "        [1.7796]])"
            ]
          },
          "metadata": {},
          "execution_count": 29
        }
      ]
    },
    {
      "cell_type": "code",
      "source": [
        "plot_predictions(predictions = y_preds)"
      ],
      "metadata": {
        "colab": {
          "base_uri": "https://localhost:8080/",
          "height": 599
        },
        "id": "HQ5XeJ6oq4uK",
        "outputId": "29462578-bea3-4e1c-dfbf-fcbc3a14a0f3"
      },
      "execution_count": 41,
      "outputs": [
        {
          "output_type": "display_data",
          "data": {
            "text/plain": [
              "<Figure size 1000x700 with 1 Axes>"
            ],
            "image/png": "[encoded data removed]"
          },
          "metadata": {}
        }
      ]
    },
    {
      "cell_type": "markdown",
      "source": [
        "### 3. Train model\n",
        "The whole idea of training is for a model to move from some unknown parameters (these may be random) to some known parameters.\n",
        "\n",
        "Or in other words from a poor representation of the data to a better representation of the data.\n",
        "\n",
        "One way to measure how poor or how wrong your models predictions are is to use a loss function.\n",
        "\n",
        "* Note: Loss function may also be acalled cost function or criterion in different areas. For our case, we're going to refer to it as a loss function.\n",
        "\n",
        "Things we need to train:\n",
        "\n",
        "* **Loss function:** A function to mensure how wrong is your model's predictions are to the ideal outputs, lower is better.\n",
        "* **Optimizer:** Takes into account the loss of a model and adjusts the model's parameters (e.g. weight & bias in our case )  to improve the loss function.\n",
        "\n",
        "And specifically to PyTorch, we need:\n",
        "* A training loop\n",
        "* A testing loop"
      ],
      "metadata": {
        "id": "-zwDwJlDto5-"
      }
    },
    {
      "cell_type": "code",
      "source": [
        "list(model_0.parameters())"
      ],
      "metadata": {
        "colab": {
          "base_uri": "https://localhost:8080/"
        },
        "id": "rd5pAvF5uhUI",
        "outputId": "94a8d5f5-30a9-4ea6-fb37-2200ecfd4944"
      },
      "execution_count": 43,
      "outputs": [
        {
          "output_type": "execute_result",
          "data": {
            "text/plain": [
              "[Parameter containing:\n",
              " tensor([0.8823], requires_grad=True),\n",
              " Parameter containing:\n",
              " tensor([0.9150], requires_grad=True)]"
            ]
          },
          "metadata": {},
          "execution_count": 43
        }
      ]
    },
    {
      "cell_type": "code",
      "source": [
        "#Setup a loss function]\n",
        "loss_fn = nn.L1Loss()\n",
        "#Setup a optimizer\n",
        "optimizer = torch.optim.SGD(params = model_0.parameters(),\n",
        "                            lr = 0.01)"
      ],
      "metadata": {
        "id": "aSbEL_iEygkW"
      },
      "execution_count": 50,
      "outputs": []
    }
  ]
}